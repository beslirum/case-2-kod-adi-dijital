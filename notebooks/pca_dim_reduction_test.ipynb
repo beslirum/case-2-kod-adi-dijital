{
 "cells": [
  {
   "cell_type": "code",
   "execution_count": 1,
   "id": "d8a79a87",
   "metadata": {},
   "outputs": [
    {
     "name": "stdout",
     "output_type": "stream",
     "text": [
      "X_train shape: (3367, 377)\n",
      "X_valid shape: (842, 377)\n",
      "y_train shape: (3367,)\n",
      "y_valid shape: (842,)\n"
     ]
    }
   ],
   "source": [
    "import sys, os\n",
    "import pandas as pd\n",
    "import numpy as np\n",
    "\n",
    "project_root = os.path.abspath(os.path.join(os.getcwd(), \"..\"))\n",
    "sys.path.insert(0, project_root)\n",
    "\n",
    "from features import Preprocessor"
   ]
  },
  {
   "cell_type": "code",
   "execution_count": 2,
   "id": "cad252ca",
   "metadata": {},
   "outputs": [
    {
     "data": {
      "application/vnd.microsoft.datawrangler.viewer.v0+json": {
       "columns": [
        {
         "name": "ID",
         "rawType": "int64",
         "type": "integer"
        },
        {
         "name": "y",
         "rawType": "float64",
         "type": "float"
        },
        {
         "name": "X0",
         "rawType": "object",
         "type": "string"
        },
        {
         "name": "X1",
         "rawType": "object",
         "type": "string"
        },
        {
         "name": "X2",
         "rawType": "object",
         "type": "string"
        },
        {
         "name": "X3",
         "rawType": "object",
         "type": "string"
        },
        {
         "name": "X4",
         "rawType": "object",
         "type": "string"
        },
        {
         "name": "X5",
         "rawType": "object",
         "type": "string"
        },
        {
         "name": "X6",
         "rawType": "object",
         "type": "string"
        },
        {
         "name": "X8",
         "rawType": "object",
         "type": "string"
        },
        {
         "name": "X10",
         "rawType": "int64",
         "type": "integer"
        },
        {
         "name": "X11",
         "rawType": "int64",
         "type": "integer"
        },
        {
         "name": "X12",
         "rawType": "int64",
         "type": "integer"
        },
        {
         "name": "X13",
         "rawType": "int64",
         "type": "integer"
        },
        {
         "name": "X14",
         "rawType": "int64",
         "type": "integer"
        },
        {
         "name": "X15",
         "rawType": "int64",
         "type": "integer"
        },
        {
         "name": "X16",
         "rawType": "int64",
         "type": "integer"
        },
        {
         "name": "X17",
         "rawType": "int64",
         "type": "integer"
        },
        {
         "name": "X18",
         "rawType": "int64",
         "type": "integer"
        },
        {
         "name": "X19",
         "rawType": "int64",
         "type": "integer"
        },
        {
         "name": "X20",
         "rawType": "int64",
         "type": "integer"
        },
        {
         "name": "X21",
         "rawType": "int64",
         "type": "integer"
        },
        {
         "name": "X22",
         "rawType": "int64",
         "type": "integer"
        },
        {
         "name": "X23",
         "rawType": "int64",
         "type": "integer"
        },
        {
         "name": "X24",
         "rawType": "int64",
         "type": "integer"
        },
        {
         "name": "X26",
         "rawType": "int64",
         "type": "integer"
        },
        {
         "name": "X27",
         "rawType": "int64",
         "type": "integer"
        },
        {
         "name": "X28",
         "rawType": "int64",
         "type": "integer"
        },
        {
         "name": "X29",
         "rawType": "int64",
         "type": "integer"
        },
        {
         "name": "X30",
         "rawType": "int64",
         "type": "integer"
        },
        {
         "name": "X31",
         "rawType": "int64",
         "type": "integer"
        },
        {
         "name": "X32",
         "rawType": "int64",
         "type": "integer"
        },
        {
         "name": "X33",
         "rawType": "int64",
         "type": "integer"
        },
        {
         "name": "X34",
         "rawType": "int64",
         "type": "integer"
        },
        {
         "name": "X35",
         "rawType": "int64",
         "type": "integer"
        },
        {
         "name": "X36",
         "rawType": "int64",
         "type": "integer"
        },
        {
         "name": "X37",
         "rawType": "int64",
         "type": "integer"
        },
        {
         "name": "X38",
         "rawType": "int64",
         "type": "integer"
        },
        {
         "name": "X39",
         "rawType": "int64",
         "type": "integer"
        },
        {
         "name": "X40",
         "rawType": "int64",
         "type": "integer"
        },
        {
         "name": "X41",
         "rawType": "int64",
         "type": "integer"
        },
        {
         "name": "X42",
         "rawType": "int64",
         "type": "integer"
        },
        {
         "name": "X43",
         "rawType": "int64",
         "type": "integer"
        },
        {
         "name": "X44",
         "rawType": "int64",
         "type": "integer"
        },
        {
         "name": "X45",
         "rawType": "int64",
         "type": "integer"
        },
        {
         "name": "X46",
         "rawType": "int64",
         "type": "integer"
        },
        {
         "name": "X47",
         "rawType": "int64",
         "type": "integer"
        },
        {
         "name": "X48",
         "rawType": "int64",
         "type": "integer"
        },
        {
         "name": "X49",
         "rawType": "int64",
         "type": "integer"
        },
        {
         "name": "X50",
         "rawType": "int64",
         "type": "integer"
        },
        {
         "name": "X51",
         "rawType": "int64",
         "type": "integer"
        },
        {
         "name": "X52",
         "rawType": "int64",
         "type": "integer"
        },
        {
         "name": "X53",
         "rawType": "int64",
         "type": "integer"
        },
        {
         "name": "X54",
         "rawType": "int64",
         "type": "integer"
        },
        {
         "name": "X55",
         "rawType": "int64",
         "type": "integer"
        },
        {
         "name": "X56",
         "rawType": "int64",
         "type": "integer"
        },
        {
         "name": "X57",
         "rawType": "int64",
         "type": "integer"
        },
        {
         "name": "X58",
         "rawType": "int64",
         "type": "integer"
        },
        {
         "name": "X59",
         "rawType": "int64",
         "type": "integer"
        },
        {
         "name": "X60",
         "rawType": "int64",
         "type": "integer"
        },
        {
         "name": "X61",
         "rawType": "int64",
         "type": "integer"
        },
        {
         "name": "X62",
         "rawType": "int64",
         "type": "integer"
        },
        {
         "name": "X63",
         "rawType": "int64",
         "type": "integer"
        },
        {
         "name": "X64",
         "rawType": "int64",
         "type": "integer"
        },
        {
         "name": "X65",
         "rawType": "int64",
         "type": "integer"
        },
        {
         "name": "X66",
         "rawType": "int64",
         "type": "integer"
        },
        {
         "name": "X67",
         "rawType": "int64",
         "type": "integer"
        },
        {
         "name": "X68",
         "rawType": "int64",
         "type": "integer"
        },
        {
         "name": "X69",
         "rawType": "int64",
         "type": "integer"
        },
        {
         "name": "X70",
         "rawType": "int64",
         "type": "integer"
        },
        {
         "name": "X71",
         "rawType": "int64",
         "type": "integer"
        },
        {
         "name": "X73",
         "rawType": "int64",
         "type": "integer"
        },
        {
         "name": "X74",
         "rawType": "int64",
         "type": "integer"
        },
        {
         "name": "X75",
         "rawType": "int64",
         "type": "integer"
        },
        {
         "name": "X76",
         "rawType": "int64",
         "type": "integer"
        },
        {
         "name": "X77",
         "rawType": "int64",
         "type": "integer"
        },
        {
         "name": "X78",
         "rawType": "int64",
         "type": "integer"
        },
        {
         "name": "X79",
         "rawType": "int64",
         "type": "integer"
        },
        {
         "name": "X80",
         "rawType": "int64",
         "type": "integer"
        },
        {
         "name": "X81",
         "rawType": "int64",
         "type": "integer"
        },
        {
         "name": "X82",
         "rawType": "int64",
         "type": "integer"
        },
        {
         "name": "X83",
         "rawType": "int64",
         "type": "integer"
        },
        {
         "name": "X84",
         "rawType": "int64",
         "type": "integer"
        },
        {
         "name": "X85",
         "rawType": "int64",
         "type": "integer"
        },
        {
         "name": "X86",
         "rawType": "int64",
         "type": "integer"
        },
        {
         "name": "X87",
         "rawType": "int64",
         "type": "integer"
        },
        {
         "name": "X88",
         "rawType": "int64",
         "type": "integer"
        },
        {
         "name": "X89",
         "rawType": "int64",
         "type": "integer"
        },
        {
         "name": "X90",
         "rawType": "int64",
         "type": "integer"
        },
        {
         "name": "X91",
         "rawType": "int64",
         "type": "integer"
        },
        {
         "name": "X92",
         "rawType": "int64",
         "type": "integer"
        },
        {
         "name": "X93",
         "rawType": "int64",
         "type": "integer"
        },
        {
         "name": "X94",
         "rawType": "int64",
         "type": "integer"
        },
        {
         "name": "X95",
         "rawType": "int64",
         "type": "integer"
        },
        {
         "name": "X96",
         "rawType": "int64",
         "type": "integer"
        },
        {
         "name": "X97",
         "rawType": "int64",
         "type": "integer"
        },
        {
         "name": "X98",
         "rawType": "int64",
         "type": "integer"
        },
        {
         "name": "X99",
         "rawType": "int64",
         "type": "integer"
        },
        {
         "name": "X100",
         "rawType": "int64",
         "type": "integer"
        },
        {
         "name": "X101",
         "rawType": "int64",
         "type": "integer"
        },
        {
         "name": "X102",
         "rawType": "int64",
         "type": "integer"
        },
        {
         "name": "X103",
         "rawType": "int64",
         "type": "integer"
        },
        {
         "name": "X104",
         "rawType": "int64",
         "type": "integer"
        },
        {
         "name": "X105",
         "rawType": "int64",
         "type": "integer"
        },
        {
         "name": "X106",
         "rawType": "int64",
         "type": "integer"
        },
        {
         "name": "X107",
         "rawType": "int64",
         "type": "integer"
        },
        {
         "name": "X108",
         "rawType": "int64",
         "type": "integer"
        },
        {
         "name": "X109",
         "rawType": "int64",
         "type": "integer"
        },
        {
         "name": "X110",
         "rawType": "int64",
         "type": "integer"
        },
        {
         "name": "X111",
         "rawType": "int64",
         "type": "integer"
        },
        {
         "name": "X112",
         "rawType": "int64",
         "type": "integer"
        },
        {
         "name": "X113",
         "rawType": "int64",
         "type": "integer"
        },
        {
         "name": "X114",
         "rawType": "int64",
         "type": "integer"
        },
        {
         "name": "X115",
         "rawType": "int64",
         "type": "integer"
        },
        {
         "name": "X116",
         "rawType": "int64",
         "type": "integer"
        },
        {
         "name": "X117",
         "rawType": "int64",
         "type": "integer"
        },
        {
         "name": "X118",
         "rawType": "int64",
         "type": "integer"
        },
        {
         "name": "X119",
         "rawType": "int64",
         "type": "integer"
        },
        {
         "name": "X120",
         "rawType": "int64",
         "type": "integer"
        },
        {
         "name": "X122",
         "rawType": "int64",
         "type": "integer"
        },
        {
         "name": "X123",
         "rawType": "int64",
         "type": "integer"
        },
        {
         "name": "X124",
         "rawType": "int64",
         "type": "integer"
        },
        {
         "name": "X125",
         "rawType": "int64",
         "type": "integer"
        },
        {
         "name": "X126",
         "rawType": "int64",
         "type": "integer"
        },
        {
         "name": "X127",
         "rawType": "int64",
         "type": "integer"
        },
        {
         "name": "X128",
         "rawType": "int64",
         "type": "integer"
        },
        {
         "name": "X129",
         "rawType": "int64",
         "type": "integer"
        },
        {
         "name": "X130",
         "rawType": "int64",
         "type": "integer"
        },
        {
         "name": "X131",
         "rawType": "int64",
         "type": "integer"
        },
        {
         "name": "X132",
         "rawType": "int64",
         "type": "integer"
        },
        {
         "name": "X133",
         "rawType": "int64",
         "type": "integer"
        },
        {
         "name": "X134",
         "rawType": "int64",
         "type": "integer"
        },
        {
         "name": "X135",
         "rawType": "int64",
         "type": "integer"
        },
        {
         "name": "X136",
         "rawType": "int64",
         "type": "integer"
        },
        {
         "name": "X137",
         "rawType": "int64",
         "type": "integer"
        },
        {
         "name": "X138",
         "rawType": "int64",
         "type": "integer"
        },
        {
         "name": "X139",
         "rawType": "int64",
         "type": "integer"
        },
        {
         "name": "X140",
         "rawType": "int64",
         "type": "integer"
        },
        {
         "name": "X141",
         "rawType": "int64",
         "type": "integer"
        },
        {
         "name": "X142",
         "rawType": "int64",
         "type": "integer"
        },
        {
         "name": "X143",
         "rawType": "int64",
         "type": "integer"
        },
        {
         "name": "X144",
         "rawType": "int64",
         "type": "integer"
        },
        {
         "name": "X145",
         "rawType": "int64",
         "type": "integer"
        },
        {
         "name": "X146",
         "rawType": "int64",
         "type": "integer"
        },
        {
         "name": "X147",
         "rawType": "int64",
         "type": "integer"
        },
        {
         "name": "X148",
         "rawType": "int64",
         "type": "integer"
        },
        {
         "name": "X150",
         "rawType": "int64",
         "type": "integer"
        },
        {
         "name": "X151",
         "rawType": "int64",
         "type": "integer"
        },
        {
         "name": "X152",
         "rawType": "int64",
         "type": "integer"
        },
        {
         "name": "X153",
         "rawType": "int64",
         "type": "integer"
        },
        {
         "name": "X154",
         "rawType": "int64",
         "type": "integer"
        },
        {
         "name": "X155",
         "rawType": "int64",
         "type": "integer"
        },
        {
         "name": "X156",
         "rawType": "int64",
         "type": "integer"
        },
        {
         "name": "X157",
         "rawType": "int64",
         "type": "integer"
        },
        {
         "name": "X158",
         "rawType": "int64",
         "type": "integer"
        },
        {
         "name": "X159",
         "rawType": "int64",
         "type": "integer"
        },
        {
         "name": "X160",
         "rawType": "int64",
         "type": "integer"
        },
        {
         "name": "X161",
         "rawType": "int64",
         "type": "integer"
        },
        {
         "name": "X162",
         "rawType": "int64",
         "type": "integer"
        },
        {
         "name": "X163",
         "rawType": "int64",
         "type": "integer"
        },
        {
         "name": "X164",
         "rawType": "int64",
         "type": "integer"
        },
        {
         "name": "X165",
         "rawType": "int64",
         "type": "integer"
        },
        {
         "name": "X166",
         "rawType": "int64",
         "type": "integer"
        },
        {
         "name": "X167",
         "rawType": "int64",
         "type": "integer"
        },
        {
         "name": "X168",
         "rawType": "int64",
         "type": "integer"
        },
        {
         "name": "X169",
         "rawType": "int64",
         "type": "integer"
        },
        {
         "name": "X170",
         "rawType": "int64",
         "type": "integer"
        },
        {
         "name": "X171",
         "rawType": "int64",
         "type": "integer"
        },
        {
         "name": "X172",
         "rawType": "int64",
         "type": "integer"
        },
        {
         "name": "X173",
         "rawType": "int64",
         "type": "integer"
        },
        {
         "name": "X174",
         "rawType": "int64",
         "type": "integer"
        },
        {
         "name": "X175",
         "rawType": "int64",
         "type": "integer"
        },
        {
         "name": "X176",
         "rawType": "int64",
         "type": "integer"
        },
        {
         "name": "X177",
         "rawType": "int64",
         "type": "integer"
        },
        {
         "name": "X178",
         "rawType": "int64",
         "type": "integer"
        },
        {
         "name": "X179",
         "rawType": "int64",
         "type": "integer"
        },
        {
         "name": "X180",
         "rawType": "int64",
         "type": "integer"
        },
        {
         "name": "X181",
         "rawType": "int64",
         "type": "integer"
        },
        {
         "name": "X182",
         "rawType": "int64",
         "type": "integer"
        },
        {
         "name": "X183",
         "rawType": "int64",
         "type": "integer"
        },
        {
         "name": "X184",
         "rawType": "int64",
         "type": "integer"
        },
        {
         "name": "X185",
         "rawType": "int64",
         "type": "integer"
        },
        {
         "name": "X186",
         "rawType": "int64",
         "type": "integer"
        },
        {
         "name": "X187",
         "rawType": "int64",
         "type": "integer"
        },
        {
         "name": "X189",
         "rawType": "int64",
         "type": "integer"
        },
        {
         "name": "X190",
         "rawType": "int64",
         "type": "integer"
        },
        {
         "name": "X191",
         "rawType": "int64",
         "type": "integer"
        },
        {
         "name": "X192",
         "rawType": "int64",
         "type": "integer"
        },
        {
         "name": "X194",
         "rawType": "int64",
         "type": "integer"
        },
        {
         "name": "X195",
         "rawType": "int64",
         "type": "integer"
        },
        {
         "name": "X196",
         "rawType": "int64",
         "type": "integer"
        },
        {
         "name": "X197",
         "rawType": "int64",
         "type": "integer"
        },
        {
         "name": "X198",
         "rawType": "int64",
         "type": "integer"
        },
        {
         "name": "X199",
         "rawType": "int64",
         "type": "integer"
        },
        {
         "name": "X200",
         "rawType": "int64",
         "type": "integer"
        },
        {
         "name": "X201",
         "rawType": "int64",
         "type": "integer"
        },
        {
         "name": "X202",
         "rawType": "int64",
         "type": "integer"
        },
        {
         "name": "X203",
         "rawType": "int64",
         "type": "integer"
        },
        {
         "name": "X204",
         "rawType": "int64",
         "type": "integer"
        },
        {
         "name": "X205",
         "rawType": "int64",
         "type": "integer"
        },
        {
         "name": "X206",
         "rawType": "int64",
         "type": "integer"
        },
        {
         "name": "X207",
         "rawType": "int64",
         "type": "integer"
        },
        {
         "name": "X208",
         "rawType": "int64",
         "type": "integer"
        },
        {
         "name": "X209",
         "rawType": "int64",
         "type": "integer"
        },
        {
         "name": "X210",
         "rawType": "int64",
         "type": "integer"
        },
        {
         "name": "X211",
         "rawType": "int64",
         "type": "integer"
        },
        {
         "name": "X212",
         "rawType": "int64",
         "type": "integer"
        },
        {
         "name": "X213",
         "rawType": "int64",
         "type": "integer"
        },
        {
         "name": "X214",
         "rawType": "int64",
         "type": "integer"
        },
        {
         "name": "X215",
         "rawType": "int64",
         "type": "integer"
        },
        {
         "name": "X216",
         "rawType": "int64",
         "type": "integer"
        },
        {
         "name": "X217",
         "rawType": "int64",
         "type": "integer"
        },
        {
         "name": "X218",
         "rawType": "int64",
         "type": "integer"
        },
        {
         "name": "X219",
         "rawType": "int64",
         "type": "integer"
        },
        {
         "name": "X220",
         "rawType": "int64",
         "type": "integer"
        },
        {
         "name": "X221",
         "rawType": "int64",
         "type": "integer"
        },
        {
         "name": "X222",
         "rawType": "int64",
         "type": "integer"
        },
        {
         "name": "X223",
         "rawType": "int64",
         "type": "integer"
        },
        {
         "name": "X224",
         "rawType": "int64",
         "type": "integer"
        },
        {
         "name": "X225",
         "rawType": "int64",
         "type": "integer"
        },
        {
         "name": "X226",
         "rawType": "int64",
         "type": "integer"
        },
        {
         "name": "X227",
         "rawType": "int64",
         "type": "integer"
        },
        {
         "name": "X228",
         "rawType": "int64",
         "type": "integer"
        },
        {
         "name": "X229",
         "rawType": "int64",
         "type": "integer"
        },
        {
         "name": "X230",
         "rawType": "int64",
         "type": "integer"
        },
        {
         "name": "X231",
         "rawType": "int64",
         "type": "integer"
        },
        {
         "name": "X232",
         "rawType": "int64",
         "type": "integer"
        },
        {
         "name": "X233",
         "rawType": "int64",
         "type": "integer"
        },
        {
         "name": "X234",
         "rawType": "int64",
         "type": "integer"
        },
        {
         "name": "X235",
         "rawType": "int64",
         "type": "integer"
        },
        {
         "name": "X236",
         "rawType": "int64",
         "type": "integer"
        },
        {
         "name": "X237",
         "rawType": "int64",
         "type": "integer"
        },
        {
         "name": "X238",
         "rawType": "int64",
         "type": "integer"
        },
        {
         "name": "X239",
         "rawType": "int64",
         "type": "integer"
        },
        {
         "name": "X240",
         "rawType": "int64",
         "type": "integer"
        },
        {
         "name": "X241",
         "rawType": "int64",
         "type": "integer"
        },
        {
         "name": "X242",
         "rawType": "int64",
         "type": "integer"
        },
        {
         "name": "X243",
         "rawType": "int64",
         "type": "integer"
        },
        {
         "name": "X244",
         "rawType": "int64",
         "type": "integer"
        },
        {
         "name": "X245",
         "rawType": "int64",
         "type": "integer"
        },
        {
         "name": "X246",
         "rawType": "int64",
         "type": "integer"
        },
        {
         "name": "X247",
         "rawType": "int64",
         "type": "integer"
        },
        {
         "name": "X248",
         "rawType": "int64",
         "type": "integer"
        },
        {
         "name": "X249",
         "rawType": "int64",
         "type": "integer"
        },
        {
         "name": "X250",
         "rawType": "int64",
         "type": "integer"
        },
        {
         "name": "X251",
         "rawType": "int64",
         "type": "integer"
        },
        {
         "name": "X252",
         "rawType": "int64",
         "type": "integer"
        },
        {
         "name": "X253",
         "rawType": "int64",
         "type": "integer"
        },
        {
         "name": "X254",
         "rawType": "int64",
         "type": "integer"
        },
        {
         "name": "X255",
         "rawType": "int64",
         "type": "integer"
        },
        {
         "name": "X256",
         "rawType": "int64",
         "type": "integer"
        },
        {
         "name": "X257",
         "rawType": "int64",
         "type": "integer"
        },
        {
         "name": "X258",
         "rawType": "int64",
         "type": "integer"
        },
        {
         "name": "X259",
         "rawType": "int64",
         "type": "integer"
        },
        {
         "name": "X260",
         "rawType": "int64",
         "type": "integer"
        },
        {
         "name": "X261",
         "rawType": "int64",
         "type": "integer"
        },
        {
         "name": "X262",
         "rawType": "int64",
         "type": "integer"
        },
        {
         "name": "X263",
         "rawType": "int64",
         "type": "integer"
        },
        {
         "name": "X264",
         "rawType": "int64",
         "type": "integer"
        },
        {
         "name": "X265",
         "rawType": "int64",
         "type": "integer"
        },
        {
         "name": "X266",
         "rawType": "int64",
         "type": "integer"
        },
        {
         "name": "X267",
         "rawType": "int64",
         "type": "integer"
        },
        {
         "name": "X268",
         "rawType": "int64",
         "type": "integer"
        },
        {
         "name": "X269",
         "rawType": "int64",
         "type": "integer"
        },
        {
         "name": "X270",
         "rawType": "int64",
         "type": "integer"
        },
        {
         "name": "X271",
         "rawType": "int64",
         "type": "integer"
        },
        {
         "name": "X272",
         "rawType": "int64",
         "type": "integer"
        },
        {
         "name": "X273",
         "rawType": "int64",
         "type": "integer"
        },
        {
         "name": "X274",
         "rawType": "int64",
         "type": "integer"
        },
        {
         "name": "X275",
         "rawType": "int64",
         "type": "integer"
        },
        {
         "name": "X276",
         "rawType": "int64",
         "type": "integer"
        },
        {
         "name": "X277",
         "rawType": "int64",
         "type": "integer"
        },
        {
         "name": "X278",
         "rawType": "int64",
         "type": "integer"
        },
        {
         "name": "X279",
         "rawType": "int64",
         "type": "integer"
        },
        {
         "name": "X280",
         "rawType": "int64",
         "type": "integer"
        },
        {
         "name": "X281",
         "rawType": "int64",
         "type": "integer"
        },
        {
         "name": "X282",
         "rawType": "int64",
         "type": "integer"
        },
        {
         "name": "X283",
         "rawType": "int64",
         "type": "integer"
        },
        {
         "name": "X284",
         "rawType": "int64",
         "type": "integer"
        },
        {
         "name": "X285",
         "rawType": "int64",
         "type": "integer"
        },
        {
         "name": "X286",
         "rawType": "int64",
         "type": "integer"
        },
        {
         "name": "X287",
         "rawType": "int64",
         "type": "integer"
        },
        {
         "name": "X288",
         "rawType": "int64",
         "type": "integer"
        },
        {
         "name": "X289",
         "rawType": "int64",
         "type": "integer"
        },
        {
         "name": "X290",
         "rawType": "int64",
         "type": "integer"
        },
        {
         "name": "X291",
         "rawType": "int64",
         "type": "integer"
        },
        {
         "name": "X292",
         "rawType": "int64",
         "type": "integer"
        },
        {
         "name": "X293",
         "rawType": "int64",
         "type": "integer"
        },
        {
         "name": "X294",
         "rawType": "int64",
         "type": "integer"
        },
        {
         "name": "X295",
         "rawType": "int64",
         "type": "integer"
        },
        {
         "name": "X296",
         "rawType": "int64",
         "type": "integer"
        },
        {
         "name": "X297",
         "rawType": "int64",
         "type": "integer"
        },
        {
         "name": "X298",
         "rawType": "int64",
         "type": "integer"
        },
        {
         "name": "X299",
         "rawType": "int64",
         "type": "integer"
        },
        {
         "name": "X300",
         "rawType": "int64",
         "type": "integer"
        },
        {
         "name": "X301",
         "rawType": "int64",
         "type": "integer"
        },
        {
         "name": "X302",
         "rawType": "int64",
         "type": "integer"
        },
        {
         "name": "X304",
         "rawType": "int64",
         "type": "integer"
        },
        {
         "name": "X305",
         "rawType": "int64",
         "type": "integer"
        },
        {
         "name": "X306",
         "rawType": "int64",
         "type": "integer"
        },
        {
         "name": "X307",
         "rawType": "int64",
         "type": "integer"
        },
        {
         "name": "X308",
         "rawType": "int64",
         "type": "integer"
        },
        {
         "name": "X309",
         "rawType": "int64",
         "type": "integer"
        },
        {
         "name": "X310",
         "rawType": "int64",
         "type": "integer"
        },
        {
         "name": "X311",
         "rawType": "int64",
         "type": "integer"
        },
        {
         "name": "X312",
         "rawType": "int64",
         "type": "integer"
        },
        {
         "name": "X313",
         "rawType": "int64",
         "type": "integer"
        },
        {
         "name": "X314",
         "rawType": "int64",
         "type": "integer"
        },
        {
         "name": "X315",
         "rawType": "int64",
         "type": "integer"
        },
        {
         "name": "X316",
         "rawType": "int64",
         "type": "integer"
        },
        {
         "name": "X317",
         "rawType": "int64",
         "type": "integer"
        },
        {
         "name": "X318",
         "rawType": "int64",
         "type": "integer"
        },
        {
         "name": "X319",
         "rawType": "int64",
         "type": "integer"
        },
        {
         "name": "X320",
         "rawType": "int64",
         "type": "integer"
        },
        {
         "name": "X321",
         "rawType": "int64",
         "type": "integer"
        },
        {
         "name": "X322",
         "rawType": "int64",
         "type": "integer"
        },
        {
         "name": "X323",
         "rawType": "int64",
         "type": "integer"
        },
        {
         "name": "X324",
         "rawType": "int64",
         "type": "integer"
        },
        {
         "name": "X325",
         "rawType": "int64",
         "type": "integer"
        },
        {
         "name": "X326",
         "rawType": "int64",
         "type": "integer"
        },
        {
         "name": "X327",
         "rawType": "int64",
         "type": "integer"
        },
        {
         "name": "X328",
         "rawType": "int64",
         "type": "integer"
        },
        {
         "name": "X329",
         "rawType": "int64",
         "type": "integer"
        },
        {
         "name": "X330",
         "rawType": "int64",
         "type": "integer"
        },
        {
         "name": "X331",
         "rawType": "int64",
         "type": "integer"
        },
        {
         "name": "X332",
         "rawType": "int64",
         "type": "integer"
        },
        {
         "name": "X333",
         "rawType": "int64",
         "type": "integer"
        },
        {
         "name": "X334",
         "rawType": "int64",
         "type": "integer"
        },
        {
         "name": "X335",
         "rawType": "int64",
         "type": "integer"
        },
        {
         "name": "X336",
         "rawType": "int64",
         "type": "integer"
        },
        {
         "name": "X337",
         "rawType": "int64",
         "type": "integer"
        },
        {
         "name": "X338",
         "rawType": "int64",
         "type": "integer"
        },
        {
         "name": "X339",
         "rawType": "int64",
         "type": "integer"
        },
        {
         "name": "X340",
         "rawType": "int64",
         "type": "integer"
        },
        {
         "name": "X341",
         "rawType": "int64",
         "type": "integer"
        },
        {
         "name": "X342",
         "rawType": "int64",
         "type": "integer"
        },
        {
         "name": "X343",
         "rawType": "int64",
         "type": "integer"
        },
        {
         "name": "X344",
         "rawType": "int64",
         "type": "integer"
        },
        {
         "name": "X345",
         "rawType": "int64",
         "type": "integer"
        },
        {
         "name": "X346",
         "rawType": "int64",
         "type": "integer"
        },
        {
         "name": "X347",
         "rawType": "int64",
         "type": "integer"
        },
        {
         "name": "X348",
         "rawType": "int64",
         "type": "integer"
        },
        {
         "name": "X349",
         "rawType": "int64",
         "type": "integer"
        },
        {
         "name": "X350",
         "rawType": "int64",
         "type": "integer"
        },
        {
         "name": "X351",
         "rawType": "int64",
         "type": "integer"
        },
        {
         "name": "X352",
         "rawType": "int64",
         "type": "integer"
        },
        {
         "name": "X353",
         "rawType": "int64",
         "type": "integer"
        },
        {
         "name": "X354",
         "rawType": "int64",
         "type": "integer"
        },
        {
         "name": "X355",
         "rawType": "int64",
         "type": "integer"
        },
        {
         "name": "X356",
         "rawType": "int64",
         "type": "integer"
        },
        {
         "name": "X357",
         "rawType": "int64",
         "type": "integer"
        },
        {
         "name": "X358",
         "rawType": "int64",
         "type": "integer"
        },
        {
         "name": "X359",
         "rawType": "int64",
         "type": "integer"
        },
        {
         "name": "X360",
         "rawType": "int64",
         "type": "integer"
        },
        {
         "name": "X361",
         "rawType": "int64",
         "type": "integer"
        },
        {
         "name": "X362",
         "rawType": "int64",
         "type": "integer"
        },
        {
         "name": "X363",
         "rawType": "int64",
         "type": "integer"
        },
        {
         "name": "X364",
         "rawType": "int64",
         "type": "integer"
        },
        {
         "name": "X365",
         "rawType": "int64",
         "type": "integer"
        },
        {
         "name": "X366",
         "rawType": "int64",
         "type": "integer"
        },
        {
         "name": "X367",
         "rawType": "int64",
         "type": "integer"
        },
        {
         "name": "X368",
         "rawType": "int64",
         "type": "integer"
        },
        {
         "name": "X369",
         "rawType": "int64",
         "type": "integer"
        },
        {
         "name": "X370",
         "rawType": "int64",
         "type": "integer"
        },
        {
         "name": "X371",
         "rawType": "int64",
         "type": "integer"
        },
        {
         "name": "X372",
         "rawType": "int64",
         "type": "integer"
        },
        {
         "name": "X373",
         "rawType": "int64",
         "type": "integer"
        },
        {
         "name": "X374",
         "rawType": "int64",
         "type": "integer"
        },
        {
         "name": "X375",
         "rawType": "int64",
         "type": "integer"
        },
        {
         "name": "X376",
         "rawType": "int64",
         "type": "integer"
        },
        {
         "name": "X377",
         "rawType": "int64",
         "type": "integer"
        },
        {
         "name": "X378",
         "rawType": "int64",
         "type": "integer"
        },
        {
         "name": "X379",
         "rawType": "int64",
         "type": "integer"
        },
        {
         "name": "X380",
         "rawType": "int64",
         "type": "integer"
        },
        {
         "name": "X382",
         "rawType": "int64",
         "type": "integer"
        },
        {
         "name": "X383",
         "rawType": "int64",
         "type": "integer"
        },
        {
         "name": "X384",
         "rawType": "int64",
         "type": "integer"
        },
        {
         "name": "X385",
         "rawType": "int64",
         "type": "integer"
        }
       ],
       "ref": "11f36c33-7610-4567-bbb4-834114a6cf13",
       "rows": [
        [
         "0",
         "130.81",
         "k",
         "v",
         "at",
         "a",
         "d",
         "u",
         "j",
         "o",
         "0",
         "0",
         "0",
         "1",
         "0",
         "0",
         "0",
         "0",
         "1",
         "0",
         "0",
         "1",
         "0",
         "0",
         "0",
         "0",
         "0",
         "0",
         "0",
         "0",
         "1",
         "0",
         "0",
         "0",
         "1",
         "0",
         "1",
         "0",
         "0",
         "0",
         "0",
         "0",
         "0",
         "0",
         "0",
         "1",
         "0",
         "0",
         "0",
         "0",
         "0",
         "0",
         "0",
         "0",
         "0",
         "0",
         "0",
         "1",
         "0",
         "0",
         "0",
         "0",
         "0",
         "0",
         "0",
         "0",
         "0",
         "1",
         "0",
         "1",
         "0",
         "0",
         "1",
         "0",
         "0",
         "0",
         "0",
         "0",
         "0",
         "0",
         "0",
         "0",
         "0",
         "1",
         "0",
         "0",
         "0",
         "0",
         "0",
         "0",
         "0",
         "0",
         "0",
         "0",
         "0",
         "0",
         "0",
         "0",
         "0",
         "0",
         "0",
         "0",
         "0",
         "0",
         "0",
         "0",
         "0",
         "0",
         "0",
         "1",
         "0",
         "0",
         "1",
         "0",
         "1",
         "0",
         "1",
         "1",
         "1",
         "0",
         "0",
         "0",
         "0",
         "0",
         "0",
         "1",
         "0",
         "0",
         "1",
         "0",
         "0",
         "0",
         "0",
         "1",
         "1",
         "0",
         "0",
         "0",
         "0",
         "1",
         "0",
         "1",
         "0",
         "0",
         "0",
         "0",
         "1",
         "0",
         "0",
         "0",
         "0",
         "0",
         "1",
         "0",
         "0",
         "0",
         "0",
         "0",
         "0",
         "0",
         "0",
         "0",
         "0",
         "0",
         "0",
         "0",
         "1",
         "0",
         "0",
         "0",
         "0",
         "0",
         "0",
         "0",
         "0",
         "1",
         "0",
         "0",
         "0",
         "0",
         "1",
         "0",
         "0",
         "1",
         "1",
         "0",
         "0",
         "0",
         "1",
         "0",
         "0",
         "0",
         "0",
         "0",
         "0",
         "0",
         "0",
         "0",
         "1",
         "0",
         "0",
         "0",
         "0",
         "1",
         "0",
         "0",
         "0",
         "0",
         "0",
         "0",
         "0",
         "0",
         "0",
         "0",
         "1",
         "0",
         "0",
         "0",
         "0",
         "0",
         "0",
         "0",
         "0",
         "0",
         "0",
         "0",
         "0",
         "0",
         "1",
         "0",
         "0",
         "1",
         "0",
         "0",
         "0",
         "0",
         "0",
         "0",
         "0",
         "0",
         "0",
         "0",
         "0",
         "0",
         "0",
         "0",
         "0",
         "0",
         "0",
         "0",
         "0",
         "0",
         "0",
         "0",
         "0",
         "0",
         "1",
         "1",
         "0",
         "0",
         "1",
         "0",
         "0",
         "0",
         "0",
         "0",
         "0",
         "1",
         "0",
         "1",
         "0",
         "0",
         "0",
         "0",
         "0",
         "0",
         "0",
         "0",
         "0",
         "1",
         "0",
         "0",
         "0",
         "0",
         "0",
         "0",
         "0",
         "0",
         "0",
         "0",
         "0",
         "0",
         "0",
         "0",
         "0",
         "0",
         "0",
         "0",
         "0",
         "1",
         "0",
         "0",
         "0",
         "0",
         "0",
         "0",
         "0",
         "0",
         "0",
         "1",
         "0",
         "0",
         "0",
         "0",
         "0",
         "0",
         "0",
         "1",
         "0",
         "0",
         "1",
         "0",
         "1",
         "0",
         "0",
         "0",
         "0",
         "1",
         "0",
         "0",
         "0",
         "0",
         "0",
         "0",
         "0",
         "0",
         "0",
         "0",
         "0",
         "0",
         "0",
         "0",
         "0",
         "0",
         "0",
         "0",
         "0",
         "1",
         "0",
         "0",
         "0",
         "0",
         "0",
         "0",
         "1",
         "0",
         "0",
         "0",
         "0",
         "0",
         "0",
         "0",
         "0",
         "0",
         "0",
         "0",
         "0",
         "0",
         "0",
         "0",
         "1",
         "0",
         "0",
         "0",
         "0",
         "0",
         "0",
         "0"
        ],
        [
         "6",
         "88.53",
         "k",
         "t",
         "av",
         "e",
         "d",
         "y",
         "l",
         "o",
         "0",
         "0",
         "0",
         "0",
         "0",
         "0",
         "0",
         "0",
         "1",
         "0",
         "0",
         "0",
         "0",
         "0",
         "0",
         "0",
         "1",
         "0",
         "0",
         "0",
         "1",
         "0",
         "0",
         "0",
         "1",
         "0",
         "1",
         "0",
         "0",
         "0",
         "0",
         "0",
         "0",
         "0",
         "0",
         "0",
         "0",
         "0",
         "0",
         "0",
         "1",
         "0",
         "0",
         "0",
         "0",
         "0",
         "0",
         "0",
         "0",
         "0",
         "1",
         "0",
         "0",
         "0",
         "0",
         "0",
         "0",
         "0",
         "0",
         "1",
         "0",
         "0",
         "1",
         "0",
         "0",
         "0",
         "0",
         "0",
         "1",
         "0",
         "0",
         "0",
         "0",
         "1",
         "0",
         "0",
         "0",
         "0",
         "0",
         "0",
         "0",
         "0",
         "0",
         "0",
         "1",
         "0",
         "1",
         "0",
         "1",
         "1",
         "0",
         "0",
         "0",
         "0",
         "0",
         "0",
         "0",
         "0",
         "0",
         "1",
         "0",
         "0",
         "0",
         "0",
         "0",
         "0",
         "1",
         "1",
         "1",
         "0",
         "0",
         "0",
         "0",
         "0",
         "1",
         "1",
         "0",
         "0",
         "0",
         "1",
         "0",
         "0",
         "0",
         "1",
         "0",
         "0",
         "0",
         "0",
         "0",
         "1",
         "0",
         "1",
         "0",
         "0",
         "0",
         "0",
         "1",
         "0",
         "0",
         "0",
         "0",
         "0",
         "1",
         "0",
         "0",
         "0",
         "0",
         "0",
         "0",
         "0",
         "0",
         "1",
         "0",
         "0",
         "0",
         "0",
         "0",
         "0",
         "0",
         "0",
         "0",
         "0",
         "0",
         "0",
         "1",
         "0",
         "0",
         "0",
         "0",
         "0",
         "0",
         "0",
         "0",
         "1",
         "1",
         "0",
         "0",
         "0",
         "1",
         "0",
         "0",
         "0",
         "0",
         "0",
         "0",
         "0",
         "0",
         "0",
         "0",
         "1",
         "0",
         "0",
         "0",
         "1",
         "0",
         "0",
         "0",
         "0",
         "0",
         "0",
         "0",
         "0",
         "0",
         "0",
         "0",
         "0",
         "0",
         "0",
         "0",
         "0",
         "0",
         "0",
         "0",
         "1",
         "0",
         "0",
         "0",
         "0",
         "0",
         "0",
         "0",
         "0",
         "1",
         "0",
         "0",
         "0",
         "0",
         "0",
         "0",
         "0",
         "0",
         "0",
         "0",
         "0",
         "1",
         "0",
         "0",
         "0",
         "0",
         "0",
         "0",
         "0",
         "0",
         "0",
         "0",
         "0",
         "0",
         "1",
         "0",
         "1",
         "0",
         "0",
         "0",
         "0",
         "0",
         "0",
         "0",
         "1",
         "0",
         "1",
         "0",
         "0",
         "0",
         "0",
         "0",
         "0",
         "0",
         "0",
         "0",
         "1",
         "0",
         "0",
         "0",
         "0",
         "0",
         "0",
         "0",
         "0",
         "0",
         "0",
         "0",
         "0",
         "0",
         "0",
         "0",
         "0",
         "0",
         "1",
         "0",
         "0",
         "0",
         "0",
         "0",
         "0",
         "1",
         "0",
         "0",
         "0",
         "0",
         "1",
         "0",
         "0",
         "0",
         "0",
         "0",
         "0",
         "0",
         "0",
         "0",
         "0",
         "0",
         "0",
         "1",
         "0",
         "0",
         "0",
         "0",
         "0",
         "0",
         "1",
         "1",
         "0",
         "0",
         "0",
         "0",
         "0",
         "0",
         "0",
         "0",
         "0",
         "0",
         "1",
         "0",
         "0",
         "0",
         "0",
         "0",
         "0",
         "0",
         "0",
         "0",
         "0",
         "0",
         "0",
         "1",
         "0",
         "1",
         "0",
         "0",
         "0",
         "0",
         "0",
         "0",
         "0",
         "0",
         "0",
         "0",
         "0",
         "1",
         "0",
         "0",
         "0",
         "0",
         "0",
         "0",
         "0",
         "0",
         "0"
        ],
        [
         "7",
         "76.26",
         "az",
         "w",
         "n",
         "c",
         "d",
         "x",
         "j",
         "x",
         "0",
         "0",
         "0",
         "0",
         "0",
         "0",
         "0",
         "1",
         "0",
         "0",
         "0",
         "0",
         "0",
         "0",
         "0",
         "0",
         "1",
         "1",
         "1",
         "0",
         "1",
         "0",
         "0",
         "0",
         "1",
         "0",
         "1",
         "0",
         "0",
         "0",
         "0",
         "0",
         "1",
         "0",
         "0",
         "1",
         "0",
         "0",
         "0",
         "0",
         "1",
         "0",
         "0",
         "1",
         "0",
         "0",
         "0",
         "1",
         "0",
         "0",
         "1",
         "0",
         "0",
         "0",
         "0",
         "0",
         "0",
         "1",
         "0",
         "1",
         "1",
         "0",
         "1",
         "1",
         "1",
         "0",
         "0",
         "0",
         "1",
         "0",
         "0",
         "0",
         "1",
         "1",
         "0",
         "0",
         "0",
         "0",
         "0",
         "0",
         "0",
         "0",
         "0",
         "0",
         "1",
         "0",
         "1",
         "0",
         "0",
         "1",
         "0",
         "0",
         "0",
         "0",
         "0",
         "0",
         "0",
         "0",
         "0",
         "1",
         "0",
         "0",
         "0",
         "0",
         "0",
         "0",
         "0",
         "0",
         "1",
         "0",
         "0",
         "0",
         "0",
         "0",
         "0",
         "1",
         "0",
         "0",
         "0",
         "1",
         "0",
         "0",
         "0",
         "0",
         "1",
         "0",
         "0",
         "0",
         "0",
         "0",
         "0",
         "1",
         "0",
         "0",
         "0",
         "1",
         "1",
         "0",
         "0",
         "0",
         "0",
         "0",
         "0",
         "1",
         "1",
         "0",
         "0",
         "0",
         "1",
         "1",
         "0",
         "0",
         "0",
         "0",
         "0",
         "1",
         "0",
         "0",
         "0",
         "0",
         "0",
         "0",
         "0",
         "0",
         "0",
         "1",
         "0",
         "0",
         "0",
         "0",
         "0",
         "0",
         "0",
         "0",
         "0",
         "0",
         "0",
         "0",
         "1",
         "0",
         "0",
         "0",
         "0",
         "0",
         "0",
         "0",
         "0",
         "0",
         "0",
         "1",
         "1",
         "0",
         "0",
         "1",
         "0",
         "0",
         "0",
         "0",
         "0",
         "0",
         "0",
         "0",
         "1",
         "1",
         "1",
         "0",
         "0",
         "1",
         "1",
         "0",
         "0",
         "0",
         "1",
         "0",
         "0",
         "0",
         "1",
         "0",
         "0",
         "0",
         "0",
         "0",
         "0",
         "0",
         "0",
         "1",
         "0",
         "0",
         "1",
         "0",
         "1",
         "0",
         "0",
         "0",
         "1",
         "0",
         "1",
         "0",
         "0",
         "0",
         "1",
         "0",
         "0",
         "0",
         "0",
         "0",
         "0",
         "0",
         "0",
         "0",
         "0",
         "0",
         "0",
         "0",
         "0",
         "0",
         "1",
         "1",
         "1",
         "0",
         "1",
         "0",
         "0",
         "1",
         "0",
         "0",
         "0",
         "0",
         "0",
         "0",
         "1",
         "0",
         "0",
         "0",
         "0",
         "0",
         "0",
         "0",
         "0",
         "0",
         "0",
         "0",
         "0",
         "0",
         "0",
         "0",
         "0",
         "1",
         "0",
         "0",
         "0",
         "0",
         "0",
         "0",
         "0",
         "0",
         "0",
         "0",
         "0",
         "0",
         "0",
         "0",
         "0",
         "0",
         "0",
         "0",
         "0",
         "1",
         "0",
         "0",
         "0",
         "1",
         "0",
         "0",
         "0",
         "0",
         "0",
         "1",
         "0",
         "0",
         "0",
         "0",
         "0",
         "0",
         "0",
         "0",
         "0",
         "0",
         "0",
         "0",
         "0",
         "1",
         "0",
         "1",
         "0",
         "0",
         "0",
         "1",
         "0",
         "0",
         "0",
         "1",
         "0",
         "0",
         "1",
         "0",
         "1",
         "0",
         "0",
         "0",
         "0",
         "0",
         "0",
         "0",
         "0",
         "0",
         "0",
         "0",
         "0",
         "0",
         "0",
         "0",
         "0",
         "0",
         "1",
         "0",
         "0",
         "0"
        ],
        [
         "9",
         "80.62",
         "az",
         "t",
         "n",
         "f",
         "d",
         "x",
         "l",
         "e",
         "0",
         "0",
         "0",
         "0",
         "0",
         "0",
         "0",
         "0",
         "0",
         "0",
         "0",
         "0",
         "0",
         "0",
         "0",
         "0",
         "1",
         "1",
         "1",
         "0",
         "1",
         "0",
         "0",
         "0",
         "1",
         "0",
         "1",
         "0",
         "0",
         "0",
         "0",
         "0",
         "1",
         "0",
         "0",
         "1",
         "0",
         "0",
         "0",
         "0",
         "0",
         "0",
         "0",
         "1",
         "0",
         "0",
         "0",
         "0",
         "0",
         "0",
         "1",
         "0",
         "0",
         "0",
         "0",
         "0",
         "0",
         "0",
         "0",
         "1",
         "1",
         "0",
         "1",
         "0",
         "1",
         "0",
         "0",
         "0",
         "1",
         "0",
         "0",
         "0",
         "1",
         "0",
         "0",
         "0",
         "0",
         "0",
         "0",
         "0",
         "0",
         "0",
         "0",
         "0",
         "1",
         "0",
         "1",
         "0",
         "0",
         "1",
         "0",
         "0",
         "0",
         "0",
         "0",
         "0",
         "1",
         "0",
         "0",
         "1",
         "0",
         "0",
         "1",
         "0",
         "0",
         "0",
         "0",
         "0",
         "1",
         "0",
         "0",
         "0",
         "0",
         "0",
         "0",
         "1",
         "0",
         "0",
         "0",
         "1",
         "0",
         "0",
         "0",
         "0",
         "0",
         "0",
         "0",
         "0",
         "0",
         "1",
         "0",
         "1",
         "0",
         "0",
         "0",
         "1",
         "1",
         "0",
         "0",
         "0",
         "0",
         "0",
         "0",
         "1",
         "0",
         "0",
         "0",
         "0",
         "1",
         "0",
         "0",
         "0",
         "1",
         "0",
         "0",
         "0",
         "0",
         "0",
         "0",
         "0",
         "1",
         "0",
         "0",
         "0",
         "0",
         "1",
         "0",
         "0",
         "0",
         "0",
         "0",
         "0",
         "0",
         "0",
         "0",
         "0",
         "0",
         "0",
         "1",
         "0",
         "0",
         "0",
         "0",
         "0",
         "0",
         "0",
         "0",
         "0",
         "0",
         "1",
         "0",
         "0",
         "0",
         "1",
         "0",
         "0",
         "0",
         "0",
         "0",
         "0",
         "0",
         "0",
         "1",
         "0",
         "1",
         "0",
         "0",
         "1",
         "0",
         "0",
         "0",
         "0",
         "0",
         "1",
         "0",
         "0",
         "1",
         "0",
         "0",
         "0",
         "0",
         "0",
         "0",
         "0",
         "0",
         "1",
         "0",
         "0",
         "1",
         "0",
         "1",
         "0",
         "0",
         "0",
         "1",
         "0",
         "1",
         "0",
         "0",
         "0",
         "1",
         "0",
         "0",
         "0",
         "0",
         "0",
         "0",
         "0",
         "0",
         "0",
         "0",
         "0",
         "0",
         "0",
         "0",
         "0",
         "1",
         "1",
         "0",
         "0",
         "1",
         "0",
         "0",
         "1",
         "0",
         "0",
         "0",
         "0",
         "0",
         "0",
         "1",
         "0",
         "0",
         "0",
         "0",
         "1",
         "0",
         "0",
         "0",
         "0",
         "0",
         "0",
         "0",
         "0",
         "0",
         "0",
         "0",
         "1",
         "0",
         "0",
         "0",
         "0",
         "0",
         "0",
         "0",
         "0",
         "0",
         "0",
         "0",
         "0",
         "0",
         "0",
         "0",
         "0",
         "0",
         "0",
         "0",
         "0",
         "0",
         "0",
         "0",
         "1",
         "0",
         "0",
         "0",
         "0",
         "0",
         "0",
         "0",
         "0",
         "0",
         "0",
         "0",
         "0",
         "0",
         "0",
         "0",
         "0",
         "0",
         "0",
         "0",
         "1",
         "0",
         "1",
         "0",
         "0",
         "0",
         "0",
         "0",
         "0",
         "0",
         "1",
         "0",
         "0",
         "1",
         "0",
         "1",
         "0",
         "0",
         "0",
         "0",
         "0",
         "0",
         "0",
         "0",
         "1",
         "0",
         "0",
         "0",
         "0",
         "0",
         "0",
         "0",
         "0",
         "0",
         "0",
         "0",
         "0"
        ],
        [
         "13",
         "78.02",
         "az",
         "v",
         "n",
         "f",
         "d",
         "h",
         "d",
         "n",
         "0",
         "0",
         "0",
         "0",
         "0",
         "0",
         "0",
         "0",
         "0",
         "0",
         "0",
         "0",
         "0",
         "0",
         "0",
         "0",
         "1",
         "1",
         "1",
         "0",
         "1",
         "0",
         "0",
         "0",
         "1",
         "0",
         "1",
         "0",
         "0",
         "0",
         "0",
         "0",
         "1",
         "0",
         "0",
         "1",
         "0",
         "0",
         "0",
         "0",
         "1",
         "0",
         "0",
         "1",
         "0",
         "0",
         "0",
         "0",
         "0",
         "0",
         "1",
         "0",
         "0",
         "0",
         "0",
         "0",
         "0",
         "0",
         "0",
         "1",
         "0",
         "0",
         "1",
         "0",
         "1",
         "0",
         "0",
         "0",
         "1",
         "0",
         "0",
         "0",
         "0",
         "0",
         "0",
         "0",
         "0",
         "0",
         "0",
         "0",
         "0",
         "0",
         "0",
         "0",
         "1",
         "0",
         "1",
         "0",
         "0",
         "1",
         "0",
         "0",
         "0",
         "0",
         "0",
         "0",
         "1",
         "0",
         "0",
         "1",
         "0",
         "0",
         "1",
         "0",
         "0",
         "0",
         "0",
         "0",
         "1",
         "0",
         "0",
         "0",
         "0",
         "0",
         "0",
         "1",
         "0",
         "0",
         "0",
         "1",
         "0",
         "0",
         "0",
         "0",
         "0",
         "0",
         "0",
         "0",
         "0",
         "0",
         "0",
         "1",
         "0",
         "0",
         "0",
         "1",
         "1",
         "0",
         "0",
         "0",
         "0",
         "0",
         "0",
         "1",
         "1",
         "0",
         "0",
         "0",
         "1",
         "0",
         "0",
         "0",
         "1",
         "0",
         "0",
         "0",
         "0",
         "0",
         "0",
         "0",
         "0",
         "0",
         "0",
         "0",
         "0",
         "1",
         "0",
         "0",
         "0",
         "0",
         "0",
         "0",
         "0",
         "0",
         "0",
         "0",
         "0",
         "0",
         "1",
         "0",
         "0",
         "0",
         "0",
         "0",
         "0",
         "0",
         "0",
         "0",
         "0",
         "1",
         "0",
         "0",
         "0",
         "1",
         "0",
         "0",
         "0",
         "0",
         "0",
         "0",
         "0",
         "0",
         "1",
         "0",
         "1",
         "0",
         "0",
         "1",
         "0",
         "0",
         "0",
         "0",
         "0",
         "1",
         "0",
         "0",
         "1",
         "0",
         "0",
         "0",
         "0",
         "0",
         "0",
         "0",
         "0",
         "0",
         "0",
         "0",
         "0",
         "0",
         "1",
         "0",
         "0",
         "0",
         "1",
         "0",
         "1",
         "0",
         "0",
         "0",
         "1",
         "0",
         "0",
         "0",
         "0",
         "0",
         "0",
         "0",
         "0",
         "0",
         "0",
         "0",
         "0",
         "0",
         "0",
         "0",
         "1",
         "1",
         "0",
         "0",
         "1",
         "0",
         "0",
         "1",
         "0",
         "0",
         "0",
         "0",
         "0",
         "0",
         "1",
         "0",
         "0",
         "0",
         "0",
         "0",
         "0",
         "0",
         "0",
         "0",
         "0",
         "0",
         "0",
         "0",
         "0",
         "0",
         "0",
         "1",
         "0",
         "0",
         "0",
         "0",
         "0",
         "0",
         "0",
         "0",
         "0",
         "0",
         "0",
         "0",
         "0",
         "0",
         "0",
         "0",
         "0",
         "0",
         "0",
         "0",
         "0",
         "0",
         "0",
         "1",
         "0",
         "0",
         "0",
         "0",
         "0",
         "1",
         "0",
         "0",
         "0",
         "0",
         "0",
         "0",
         "0",
         "0",
         "0",
         "0",
         "0",
         "0",
         "0",
         "1",
         "0",
         "1",
         "0",
         "0",
         "0",
         "0",
         "0",
         "0",
         "0",
         "1",
         "0",
         "0",
         "1",
         "0",
         "1",
         "0",
         "0",
         "0",
         "0",
         "0",
         "0",
         "0",
         "1",
         "0",
         "0",
         "0",
         "0",
         "0",
         "0",
         "0",
         "0",
         "0",
         "0",
         "0",
         "0",
         "0"
        ]
       ],
       "shape": {
        "columns": 377,
        "rows": 5
       }
      },
      "text/html": [
       "<div>\n",
       "<style scoped>\n",
       "    .dataframe tbody tr th:only-of-type {\n",
       "        vertical-align: middle;\n",
       "    }\n",
       "\n",
       "    .dataframe tbody tr th {\n",
       "        vertical-align: top;\n",
       "    }\n",
       "\n",
       "    .dataframe thead th {\n",
       "        text-align: right;\n",
       "    }\n",
       "</style>\n",
       "<table border=\"1\" class=\"dataframe\">\n",
       "  <thead>\n",
       "    <tr style=\"text-align: right;\">\n",
       "      <th></th>\n",
       "      <th>y</th>\n",
       "      <th>X0</th>\n",
       "      <th>X1</th>\n",
       "      <th>X2</th>\n",
       "      <th>X3</th>\n",
       "      <th>X4</th>\n",
       "      <th>X5</th>\n",
       "      <th>X6</th>\n",
       "      <th>X8</th>\n",
       "      <th>X10</th>\n",
       "      <th>...</th>\n",
       "      <th>X375</th>\n",
       "      <th>X376</th>\n",
       "      <th>X377</th>\n",
       "      <th>X378</th>\n",
       "      <th>X379</th>\n",
       "      <th>X380</th>\n",
       "      <th>X382</th>\n",
       "      <th>X383</th>\n",
       "      <th>X384</th>\n",
       "      <th>X385</th>\n",
       "    </tr>\n",
       "    <tr>\n",
       "      <th>ID</th>\n",
       "      <th></th>\n",
       "      <th></th>\n",
       "      <th></th>\n",
       "      <th></th>\n",
       "      <th></th>\n",
       "      <th></th>\n",
       "      <th></th>\n",
       "      <th></th>\n",
       "      <th></th>\n",
       "      <th></th>\n",
       "      <th></th>\n",
       "      <th></th>\n",
       "      <th></th>\n",
       "      <th></th>\n",
       "      <th></th>\n",
       "      <th></th>\n",
       "      <th></th>\n",
       "      <th></th>\n",
       "      <th></th>\n",
       "      <th></th>\n",
       "      <th></th>\n",
       "    </tr>\n",
       "  </thead>\n",
       "  <tbody>\n",
       "    <tr>\n",
       "      <th>0</th>\n",
       "      <td>130.81</td>\n",
       "      <td>k</td>\n",
       "      <td>v</td>\n",
       "      <td>at</td>\n",
       "      <td>a</td>\n",
       "      <td>d</td>\n",
       "      <td>u</td>\n",
       "      <td>j</td>\n",
       "      <td>o</td>\n",
       "      <td>0</td>\n",
       "      <td>...</td>\n",
       "      <td>0</td>\n",
       "      <td>0</td>\n",
       "      <td>1</td>\n",
       "      <td>0</td>\n",
       "      <td>0</td>\n",
       "      <td>0</td>\n",
       "      <td>0</td>\n",
       "      <td>0</td>\n",
       "      <td>0</td>\n",
       "      <td>0</td>\n",
       "    </tr>\n",
       "    <tr>\n",
       "      <th>6</th>\n",
       "      <td>88.53</td>\n",
       "      <td>k</td>\n",
       "      <td>t</td>\n",
       "      <td>av</td>\n",
       "      <td>e</td>\n",
       "      <td>d</td>\n",
       "      <td>y</td>\n",
       "      <td>l</td>\n",
       "      <td>o</td>\n",
       "      <td>0</td>\n",
       "      <td>...</td>\n",
       "      <td>1</td>\n",
       "      <td>0</td>\n",
       "      <td>0</td>\n",
       "      <td>0</td>\n",
       "      <td>0</td>\n",
       "      <td>0</td>\n",
       "      <td>0</td>\n",
       "      <td>0</td>\n",
       "      <td>0</td>\n",
       "      <td>0</td>\n",
       "    </tr>\n",
       "    <tr>\n",
       "      <th>7</th>\n",
       "      <td>76.26</td>\n",
       "      <td>az</td>\n",
       "      <td>w</td>\n",
       "      <td>n</td>\n",
       "      <td>c</td>\n",
       "      <td>d</td>\n",
       "      <td>x</td>\n",
       "      <td>j</td>\n",
       "      <td>x</td>\n",
       "      <td>0</td>\n",
       "      <td>...</td>\n",
       "      <td>0</td>\n",
       "      <td>0</td>\n",
       "      <td>0</td>\n",
       "      <td>0</td>\n",
       "      <td>0</td>\n",
       "      <td>0</td>\n",
       "      <td>1</td>\n",
       "      <td>0</td>\n",
       "      <td>0</td>\n",
       "      <td>0</td>\n",
       "    </tr>\n",
       "    <tr>\n",
       "      <th>9</th>\n",
       "      <td>80.62</td>\n",
       "      <td>az</td>\n",
       "      <td>t</td>\n",
       "      <td>n</td>\n",
       "      <td>f</td>\n",
       "      <td>d</td>\n",
       "      <td>x</td>\n",
       "      <td>l</td>\n",
       "      <td>e</td>\n",
       "      <td>0</td>\n",
       "      <td>...</td>\n",
       "      <td>0</td>\n",
       "      <td>0</td>\n",
       "      <td>0</td>\n",
       "      <td>0</td>\n",
       "      <td>0</td>\n",
       "      <td>0</td>\n",
       "      <td>0</td>\n",
       "      <td>0</td>\n",
       "      <td>0</td>\n",
       "      <td>0</td>\n",
       "    </tr>\n",
       "    <tr>\n",
       "      <th>13</th>\n",
       "      <td>78.02</td>\n",
       "      <td>az</td>\n",
       "      <td>v</td>\n",
       "      <td>n</td>\n",
       "      <td>f</td>\n",
       "      <td>d</td>\n",
       "      <td>h</td>\n",
       "      <td>d</td>\n",
       "      <td>n</td>\n",
       "      <td>0</td>\n",
       "      <td>...</td>\n",
       "      <td>0</td>\n",
       "      <td>0</td>\n",
       "      <td>0</td>\n",
       "      <td>0</td>\n",
       "      <td>0</td>\n",
       "      <td>0</td>\n",
       "      <td>0</td>\n",
       "      <td>0</td>\n",
       "      <td>0</td>\n",
       "      <td>0</td>\n",
       "    </tr>\n",
       "  </tbody>\n",
       "</table>\n",
       "<p>5 rows × 377 columns</p>\n",
       "</div>"
      ],
      "text/plain": [
       "         y  X0 X1  X2 X3 X4 X5 X6 X8  X10  ...  X375  X376  X377  X378  X379  \\\n",
       "ID                                         ...                                 \n",
       "0   130.81   k  v  at  a  d  u  j  o    0  ...     0     0     1     0     0   \n",
       "6    88.53   k  t  av  e  d  y  l  o    0  ...     1     0     0     0     0   \n",
       "7    76.26  az  w   n  c  d  x  j  x    0  ...     0     0     0     0     0   \n",
       "9    80.62  az  t   n  f  d  x  l  e    0  ...     0     0     0     0     0   \n",
       "13   78.02  az  v   n  f  d  h  d  n    0  ...     0     0     0     0     0   \n",
       "\n",
       "    X380  X382  X383  X384  X385  \n",
       "ID                                \n",
       "0      0     0     0     0     0  \n",
       "6      0     0     0     0     0  \n",
       "7      0     1     0     0     0  \n",
       "9      0     0     0     0     0  \n",
       "13     0     0     0     0     0  \n",
       "\n",
       "[5 rows x 377 columns]"
      ]
     },
     "execution_count": 2,
     "metadata": {},
     "output_type": "execute_result"
    }
   ],
   "source": [
    "path = '../data/train.csv'\n",
    "\n",
    "data = pd.read_csv(path, index_col='ID')\n",
    "data.head()"
   ]
  },
  {
   "cell_type": "code",
   "execution_count": 3,
   "id": "3ed41c34",
   "metadata": {},
   "outputs": [
    {
     "name": "stdout",
     "output_type": "stream",
     "text": [
      "Detected a categorical column (X1), applying LabelEncoding...\n",
      "Detected a categorical column (X2), applying LabelEncoding...\n",
      "Detected a categorical column (X3), applying LabelEncoding...\n"
     ]
    }
   ],
   "source": [
    "pre = Preprocessor()\n",
    "pre.pca_fit(data, ['X1', 'X2', 'X3'])"
   ]
  },
  {
   "cell_type": "code",
   "execution_count": 4,
   "id": "1c992ad3",
   "metadata": {},
   "outputs": [
    {
     "name": "stderr",
     "output_type": "stream",
     "text": [
      "/Library/Frameworks/Python.framework/Versions/3.12/lib/python3.12/site-packages/sklearn/utils/validation.py:2749: UserWarning: X does not have valid feature names, but PCA was fitted with feature names\n",
      "  warnings.warn(\n"
     ]
    },
    {
     "data": {
      "application/vnd.microsoft.datawrangler.viewer.v0+json": {
       "columns": [
        {
         "name": "ID",
         "rawType": "int64",
         "type": "integer"
        },
        {
         "name": "PC1",
         "rawType": "float64",
         "type": "float"
        },
        {
         "name": "PC2",
         "rawType": "float64",
         "type": "float"
        },
        {
         "name": "PC3",
         "rawType": "float64",
         "type": "float"
        }
       ],
       "ref": "4a8e936f-c9c0-4b8e-bfca-78623e14335a",
       "rows": [
        [
         "0",
         "-0.2159850622576308",
         "0.9109284710324493",
         "-1.9704693432939278"
        ],
        [
         "6",
         "1.252107941698674",
         "0.3342424714714286",
         "-0.27126684651221167"
        ],
        [
         "7",
         "0.649539792716488",
         "2.021001900143358",
         "-0.6336655308101066"
        ],
        [
         "9",
         "1.630278642214647",
         "1.4077081062833332",
         "0.6927479952895987"
        ],
        [
         "13",
         "1.7948573970728532",
         "1.4834075409205734",
         "0.543891776017776"
        ],
        [
         "18",
         "-1.0599181572471674",
         "0.48212952718436086",
         "0.5715417059013393"
        ],
        [
         "24",
         "1.4843188634039506",
         "0.5879803623781173",
         "0.4838211489187294"
        ],
        [
         "25",
         "1.0092015748768417",
         "-0.3831462508015788",
         "0.5726067410915053"
        ],
        [
         "27",
         "1.1760248896187406",
         "0.048383317730149894",
         "-0.31609975875719765"
        ],
        [
         "30",
         "-1.0371616309668776",
         "-0.4272384063653873",
         "0.13425129233804925"
        ],
        [
         "31",
         "1.4574247868908807",
         "1.6626879202096378",
         "1.0006189104026177"
        ],
        [
         "32",
         "1.4843188634039506",
         "0.5879803623781173",
         "0.4838211489187294"
        ],
        [
         "34",
         "-1.0226802051521477",
         "-1.0059270913515905",
         "-0.1440244253840445"
        ],
        [
         "36",
         "1.4843188634039506",
         "0.5879803623781173",
         "0.4838211489187294"
        ],
        [
         "37",
         "1.1760248896187406",
         "0.048383317730149894",
         "-0.31609975875719765"
        ],
        [
         "38",
         "1.0257517758079615",
         "-1.0445047479286684",
         "0.2545773494091125"
        ],
        [
         "39",
         "1.4843188634039506",
         "0.5879803623781173",
         "0.4838211489187294"
        ],
        [
         "40",
         "-1.2058779360578638",
         "-0.33759821672085494",
         "0.36261485953047007"
        ],
        [
         "44",
         "-0.994178980749184",
         "1.1813377416300705",
         "0.8151429879478208"
        ],
        [
         "47",
         "-0.0440101307703788",
         "-1.5365510730707292",
         "1.2221427746759599"
        ],
        [
         "48",
         "0.32245105811646574",
         "1.7869332187279916",
         "-0.37570676622676047"
        ],
        [
         "49",
         "-0.7966756087960409",
         "-0.5041797640222432",
         "0.7303245919277939"
        ],
        [
         "50",
         "-0.10077106773359089",
         "-0.8124387519384845",
         "-1.9808596296780432"
        ],
        [
         "52",
         "-1.0764683581782872",
         "1.1434880243114502",
         "0.8895710975837322"
        ],
        [
         "54",
         "0.7010833858589347",
         "-0.48424334941417146",
         "-0.9274107732010028"
        ],
        [
         "60",
         "0.32245105811646574",
         "1.7869332187279916",
         "-0.37570676622676047"
        ],
        [
         "61",
         "1.0092015748768417",
         "-0.3831462508015788",
         "0.5726067410915053"
        ],
        [
         "62",
         "-1.2058779360578638",
         "-0.33759821672085494",
         "0.36261485953047007"
        ],
        [
         "66",
         "0.3576202350950953",
         "0.38154641233292635",
         "-1.0515192235518451"
        ],
        [
         "67",
         "-1.0764683581782872",
         "1.1434880243114502",
         "0.8895710975837322"
        ],
        [
         "68",
         "1.8320953491678729",
         "-0.004649077615378067",
         "-0.17167435526760785"
        ],
        [
         "70",
         "-0.7944310489123482",
         "-0.14834963012775462",
         "-0.009525688649086587"
        ],
        [
         "74",
         "-1.0764683581782872",
         "1.1434880243114502",
         "0.8895710975837322"
        ],
        [
         "75",
         "0.7668225623569179",
         "0.2149648650315381",
         "-0.6838094911545214"
        ],
        [
         "79",
         "0.3576202350950953",
         "0.38154641233292635",
         "-1.0515192235518451"
        ],
        [
         "80",
         "-1.0226802051521477",
         "-1.0059270913515905",
         "-0.1440244253840445"
        ],
        [
         "81",
         "1.0092015748768417",
         "-0.3831462508015788",
         "0.5726067410915053"
        ],
        [
         "86",
         "0.9826590678983778",
         "1.5685611991006911",
         "-0.3107887106577689"
        ],
        [
         "90",
         "1.8320953491678729",
         "-0.004649077615378067",
         "-0.17167435526760785"
        ],
        [
         "92",
         "0.3576202350950953",
         "0.38154641233292635",
         "-1.0515192235518451"
        ],
        [
         "100",
         "1.0092015748768417",
         "-0.3831462508015788",
         "0.5726067410915053"
        ],
        [
         "102",
         "0.706938141673499",
         "-1.6092526779075795",
         "0.3535214181512623"
        ],
        [
         "106",
         "-1.1872589600103538",
         "-1.0816265259888307",
         "0.004831793887778054"
        ],
        [
         "107",
         "0.3576202350950953",
         "0.38154641233292635",
         "-1.0515192235518451"
        ],
        [
         "108",
         "0.8699754757172237",
         "-0.13538359302332895",
         "-1.855870947010005"
        ],
        [
         "109",
         "-1.0764683581782872",
         "1.1434880243114502",
         "0.8895710975837322"
        ],
        [
         "112",
         "1.52155681549897",
         "-0.9000762561578342",
         "-0.2317449823666545"
        ],
        [
         "116",
         "-1.2410471130364933",
         "1.0677885896742103",
         "1.038427316855555"
        ],
        [
         "118",
         "1.9081784012478058",
         "0.2812100761259006",
         "-0.12684144302262187"
        ],
        [
         "119",
         "-0.7735675129811456",
         "-0.5365478055012418",
         "-1.107159034868659"
        ]
       ],
       "shape": {
        "columns": 3,
        "rows": 4209
       }
      },
      "text/html": [
       "<div>\n",
       "<style scoped>\n",
       "    .dataframe tbody tr th:only-of-type {\n",
       "        vertical-align: middle;\n",
       "    }\n",
       "\n",
       "    .dataframe tbody tr th {\n",
       "        vertical-align: top;\n",
       "    }\n",
       "\n",
       "    .dataframe thead th {\n",
       "        text-align: right;\n",
       "    }\n",
       "</style>\n",
       "<table border=\"1\" class=\"dataframe\">\n",
       "  <thead>\n",
       "    <tr style=\"text-align: right;\">\n",
       "      <th></th>\n",
       "      <th>PC1</th>\n",
       "      <th>PC2</th>\n",
       "      <th>PC3</th>\n",
       "    </tr>\n",
       "    <tr>\n",
       "      <th>ID</th>\n",
       "      <th></th>\n",
       "      <th></th>\n",
       "      <th></th>\n",
       "    </tr>\n",
       "  </thead>\n",
       "  <tbody>\n",
       "    <tr>\n",
       "      <th>0</th>\n",
       "      <td>-0.215985</td>\n",
       "      <td>0.910928</td>\n",
       "      <td>-1.970469</td>\n",
       "    </tr>\n",
       "    <tr>\n",
       "      <th>6</th>\n",
       "      <td>1.252108</td>\n",
       "      <td>0.334242</td>\n",
       "      <td>-0.271267</td>\n",
       "    </tr>\n",
       "    <tr>\n",
       "      <th>7</th>\n",
       "      <td>0.649540</td>\n",
       "      <td>2.021002</td>\n",
       "      <td>-0.633666</td>\n",
       "    </tr>\n",
       "    <tr>\n",
       "      <th>9</th>\n",
       "      <td>1.630279</td>\n",
       "      <td>1.407708</td>\n",
       "      <td>0.692748</td>\n",
       "    </tr>\n",
       "    <tr>\n",
       "      <th>13</th>\n",
       "      <td>1.794857</td>\n",
       "      <td>1.483408</td>\n",
       "      <td>0.543892</td>\n",
       "    </tr>\n",
       "    <tr>\n",
       "      <th>...</th>\n",
       "      <td>...</td>\n",
       "      <td>...</td>\n",
       "      <td>...</td>\n",
       "    </tr>\n",
       "    <tr>\n",
       "      <th>8405</th>\n",
       "      <td>0.357620</td>\n",
       "      <td>0.381546</td>\n",
       "      <td>-1.051519</td>\n",
       "    </tr>\n",
       "    <tr>\n",
       "      <th>8406</th>\n",
       "      <td>0.388014</td>\n",
       "      <td>2.047641</td>\n",
       "      <td>0.567991</td>\n",
       "    </tr>\n",
       "    <tr>\n",
       "      <th>8412</th>\n",
       "      <td>-0.259429</td>\n",
       "      <td>2.646995</td>\n",
       "      <td>-1.135642</td>\n",
       "    </tr>\n",
       "    <tr>\n",
       "      <th>8415</th>\n",
       "      <td>1.484319</td>\n",
       "      <td>0.587980</td>\n",
       "      <td>0.483821</td>\n",
       "    </tr>\n",
       "    <tr>\n",
       "      <th>8417</th>\n",
       "      <td>0.302225</td>\n",
       "      <td>-0.731011</td>\n",
       "      <td>-1.493889</td>\n",
       "    </tr>\n",
       "  </tbody>\n",
       "</table>\n",
       "<p>4209 rows × 3 columns</p>\n",
       "</div>"
      ],
      "text/plain": [
       "           PC1       PC2       PC3\n",
       "ID                                \n",
       "0    -0.215985  0.910928 -1.970469\n",
       "6     1.252108  0.334242 -0.271267\n",
       "7     0.649540  2.021002 -0.633666\n",
       "9     1.630279  1.407708  0.692748\n",
       "13    1.794857  1.483408  0.543892\n",
       "...        ...       ...       ...\n",
       "8405  0.357620  0.381546 -1.051519\n",
       "8406  0.388014  2.047641  0.567991\n",
       "8412 -0.259429  2.646995 -1.135642\n",
       "8415  1.484319  0.587980  0.483821\n",
       "8417  0.302225 -0.731011 -1.493889\n",
       "\n",
       "[4209 rows x 3 columns]"
      ]
     },
     "execution_count": 4,
     "metadata": {},
     "output_type": "execute_result"
    }
   ],
   "source": [
    "pre.pca_transform(data, first_n_components=3)"
   ]
  },
  {
   "cell_type": "code",
   "execution_count": 5,
   "id": "207d2df9",
   "metadata": {},
   "outputs": [
    {
     "data": {
      "text/plain": [
       "array([0.40191383, 0.7558199 , 1.        ])"
      ]
     },
     "execution_count": 5,
     "metadata": {},
     "output_type": "execute_result"
    }
   ],
   "source": [
    "np.cumsum(pre.pca.explained_variance_ratio_)"
   ]
  },
  {
   "cell_type": "code",
   "execution_count": null,
   "id": "bf933e1a",
   "metadata": {},
   "outputs": [],
   "source": []
  }
 ],
 "metadata": {
  "kernelspec": {
   "display_name": "Python 3",
   "language": "python",
   "name": "python3"
  },
  "language_info": {
   "codemirror_mode": {
    "name": "ipython",
    "version": 3
   },
   "file_extension": ".py",
   "mimetype": "text/x-python",
   "name": "python",
   "nbconvert_exporter": "python",
   "pygments_lexer": "ipython3",
   "version": "3.12.10"
  }
 },
 "nbformat": 4,
 "nbformat_minor": 5
}
